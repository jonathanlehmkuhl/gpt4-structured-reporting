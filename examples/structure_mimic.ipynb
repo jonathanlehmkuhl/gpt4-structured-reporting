{
 "cells": [
  {
   "cell_type": "markdown",
   "id": "17b0e4e7-1828-4cb7-b783-ca640fc1b09b",
   "metadata": {},
   "source": [
    "# Structure MIMI Reports with ChatGPT\n",
    "This is an example notebook on how GPT-4 could be used to extract information \n",
    "and structure the over 200k chest x-ray reports in the MIMIC database. "
   ]
  },
  {
   "cell_type": "code",
   "execution_count": null,
   "id": "b2745c77-3d91-4ce1-9622-a6f38395c899",
   "metadata": {},
   "outputs": [],
   "source": [
    "import sys\n",
    "sys.path.append(\"..\")"
   ]
  },
  {
   "cell_type": "code",
   "execution_count": null,
   "id": "c221d9b2-e267-45b0-82d6-1b8218be62eb",
   "metadata": {},
   "outputs": [],
   "source": [
    "from pathlib import Path\n",
    "from gpt import GPTStructuredReporting\n",
    "from tqdm import tqdm\n",
    "import json\n",
    "import openai\n",
    "import time"
   ]
  },
  {
   "cell_type": "code",
   "execution_count": null,
   "id": "4188c386-18c7-4be4-9bc3-cf0f82f5cb51",
   "metadata": {},
   "outputs": [],
   "source": [
    "openai.api_key_path = \"path/to/your/openai-key\"\n",
    "mimic_reports = \"path/to/reports\""
   ]
  },
  {
   "cell_type": "code",
   "execution_count": null,
   "id": "2bc6c72b-533a-4374-b2f8-966df91f78cd",
   "metadata": {},
   "outputs": [],
   "source": [
    "with open(\"../static/report_templates.json\", \"r\") as f: \n",
    "    template = json.loads(f.read())[\"XRAY_CHEST\"]"
   ]
  },
  {
   "cell_type": "markdown",
   "id": "11afda8f-aa2a-4257-a1d8-a166a2e5b31f",
   "metadata": {},
   "source": [
    "We use one of our templates, but feel free to provide your own template in the prompt. "
   ]
  },
  {
   "cell_type": "code",
   "execution_count": null,
   "id": "981075e6-6515-4472-a01e-05e641804b49",
   "metadata": {},
   "outputs": [],
   "source": [
    "system = (\n",
    "    \"This is a JSON template for a structured report for a chest x-ray.\"   \n",
    "    \"Fill out the template with the information form the unstructured radiology \"\n",
    "    \"report the user will provide you. If the finding is present enter 1 if it is absent enter 0. \"\n",
    "    \"Here is the template:\\n\") + json.dumps(template)"
   ]
  },
  {
   "cell_type": "code",
   "execution_count": null,
   "id": "4c5b9975-71fb-4b64-acd7-f2c48bfe4347",
   "metadata": {},
   "outputs": [],
   "source": [
    "def gpt_struct_report(report_text): \n",
    "    response = openai.ChatCompletion.create(\n",
    "            model=\"gpt-4\", # gpt-3.5-turbo would also be enough and 10-50 times cheaper\n",
    "            messages=[\n",
    "                {\"role\": \"system\", \"content\": system},\n",
    "                {\"role\": \"user\", \"content\": str(report_text)},\n",
    "            ]\n",
    "    ) \n",
    "    structured_report = json.loads(response[\"choices\"][0][\"message\"][\"content\"])\n",
    "    return structured_report"
   ]
  },
  {
   "cell_type": "code",
   "execution_count": null,
   "id": "e96ff6ca-0889-4fa3-9c07-3e17d7e38685",
   "metadata": {},
   "outputs": [],
   "source": [
    "for report in tqdm(list(mimic_reports)): \n",
    "    out_name = Path(\"structured_mimic_reports\")/report.name.replace(\".txt\", \".json\")\n",
    "    for i in range(5):  # number of times until timeout\n",
    "        try: \n",
    "            if not out_name.exists(): \n",
    "                structured_report = gpt_struct_report(report)\n",
    "                with open(out_name, \"w+\") as f: \n",
    "                    f.write(json.dumps(structured_report))\n",
    "        except Exception as e:\n",
    "            print(e)  # openai api frequently has errors due to too many requests\n",
    "            print(\"trying again in 5 seconds\")\n",
    "            if i < 4:  # no sleep after last try\n",
    "                time.sleep(5)"
   ]
  }
 ],
 "metadata": {
  "kernelspec": {
   "display_name": "Python 3 (ipykernel)",
   "language": "python",
   "name": "python3"
  },
  "language_info": {
   "codemirror_mode": {
    "name": "ipython",
    "version": 3
   },
   "file_extension": ".py",
   "mimetype": "text/x-python",
   "name": "python",
   "nbconvert_exporter": "python",
   "pygments_lexer": "ipython3",
   "version": "3.10.9"
  }
 },
 "nbformat": 4,
 "nbformat_minor": 5
}
